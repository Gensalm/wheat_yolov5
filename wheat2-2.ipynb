{
  "nbformat": 4,
  "nbformat_minor": 0,
  "metadata": {
    "colab": {
      "name": "wheat2.ipynb",
      "provenance": [],
      "collapsed_sections": [],
      "mount_file_id": "1ch3U0g5IAi-ecF0DtVFQ4DxLVRTNBMiH",
      "authorship_tag": "ABX9TyMkase0JZGhOVM+tLfyid6f",
      "include_colab_link": true
    },
    "kernelspec": {
      "name": "python3",
      "display_name": "Python 3"
    },
    "language_info": {
      "name": "python"
    },
    "accelerator": "GPU"
  },
  "cells": [
    {
      "cell_type": "markdown",
      "metadata": {
        "id": "view-in-github",
        "colab_type": "text"
      },
      "source": [
        "<a href=\"https://colab.research.google.com/github/Gensalm/wheat_yolov5/blob/master/wheat2-2.ipynb\" target=\"_parent\"><img src=\"https://colab.research.google.com/assets/colab-badge.svg\" alt=\"Open In Colab\"/></a>"
      ]
    },
    {
      "cell_type": "code",
      "execution_count": null,
      "metadata": {
        "id": "tx0G7AN2cFmg"
      },
      "outputs": [],
      "source": [
        ""
      ]
    },
    {
      "cell_type": "code",
      "source": [
        "from google.colab import drive\n",
        "drive.mount('/content/drive')"
      ],
      "metadata": {
        "colab": {
          "base_uri": "https://localhost:8080/"
        },
        "id": "oeaRhFq8cqjl",
        "outputId": "a78ea9d1-869a-4161-f5ac-e1868453a609"
      },
      "execution_count": null,
      "outputs": [
        {
          "output_type": "stream",
          "name": "stdout",
          "text": [
            "Mounted at /content/drive\n"
          ]
        }
      ]
    },
    {
      "cell_type": "code",
      "source": [
        "%cd /content/drive/MyDrive/kaggle/wheat/yolov5"
      ],
      "metadata": {
        "colab": {
          "base_uri": "https://localhost:8080/"
        },
        "id": "Q87I2PNW6NiU",
        "outputId": "4bbb01b7-1fb0-42b7-925c-9be682002c7d"
      },
      "execution_count": null,
      "outputs": [
        {
          "output_type": "stream",
          "name": "stdout",
          "text": [
            "/content/drive/MyDrive/kaggle/wheat/yolov5\n"
          ]
        }
      ]
    },
    {
      "cell_type": "code",
      "source": [
        "%pip install -qr requirements.txt"
      ],
      "metadata": {
        "colab": {
          "base_uri": "https://localhost:8080/"
        },
        "id": "dNri_7tQ6Nft",
        "outputId": "450a881d-6a2d-4d86-d899-c428cf6374bf"
      },
      "execution_count": null,
      "outputs": [
        {
          "output_type": "stream",
          "name": "stdout",
          "text": [
            "\u001b[K     |████████████████████████████████| 596 kB 4.1 MB/s \n",
            "\u001b[K     |████████████████████████████████| 38.1 MB 1.3 MB/s \n",
            "\u001b[31mERROR: pip's dependency resolver does not currently take into account all the packages that are installed. This behaviour is the source of the following dependency conflicts.\n",
            "albumentations 0.1.12 requires imgaug<0.2.7,>=0.2.5, but you have imgaug 0.2.9 which is incompatible.\u001b[0m\n",
            "\u001b[?25h"
          ]
        }
      ]
    },
    {
      "cell_type": "code",
      "source": [
        "import torch\n",
        "import utils"
      ],
      "metadata": {
        "id": "Ucws4U-N6Ncb"
      },
      "execution_count": null,
      "outputs": []
    },
    {
      "cell_type": "code",
      "source": [
        "display = utils.notebook_init()  # checks"
      ],
      "metadata": {
        "id": "38Qm6WdJcvQe",
        "colab": {
          "base_uri": "https://localhost:8080/"
        },
        "outputId": "6ee05a63-1ca3-41ac-bd5c-fa44dadacb19"
      },
      "execution_count": null,
      "outputs": [
        {
          "output_type": "stream",
          "name": "stderr",
          "text": [
            "YOLOv5 🚀 v6.1-168-g5743deb torch 1.11.0+cu113 CUDA:0 (Tesla T4, 15110MiB)\n"
          ]
        },
        {
          "output_type": "stream",
          "name": "stdout",
          "text": [
            "Setup complete ✅ (2 CPUs, 12.7 GB RAM, 38.2/166.8 GB disk)\n"
          ]
        }
      ]
    },
    {
      "cell_type": "code",
      "source": [
        ""
      ],
      "metadata": {
        "id": "VT-xUNcX6tAG"
      },
      "execution_count": null,
      "outputs": []
    },
    {
      "cell_type": "code",
      "source": [
        "import numpy as np\n",
        "import pandas as pd \n",
        "import os\n",
        "import matplotlib.pyplot as plt\n",
        "import matplotlib.image as mpimg\n",
        "import re\n",
        "import random\n",
        "import shutil"
      ],
      "metadata": {
        "id": "6c-9c18M6s9p"
      },
      "execution_count": null,
      "outputs": []
    },
    {
      "cell_type": "code",
      "source": [
        "df = pd.read_csv(\"/content/drive/MyDrive/kaggle/wheat/train.csv\")"
      ],
      "metadata": {
        "id": "AZA843zE6s62"
      },
      "execution_count": null,
      "outputs": []
    },
    {
      "cell_type": "code",
      "source": [
        "df"
      ],
      "metadata": {
        "colab": {
          "base_uri": "https://localhost:8080/",
          "height": 424
        },
        "id": "exHkkd636s4q",
        "outputId": "302c38a9-1e8c-4a0a-a0bf-c9562080b618"
      },
      "execution_count": null,
      "outputs": [
        {
          "output_type": "execute_result",
          "data": {
            "text/plain": [
              "         image_id  width  height                         bbox     source\n",
              "0       b6ab77fd7   1024    1024   [834.0, 222.0, 56.0, 36.0]    usask_1\n",
              "1       b6ab77fd7   1024    1024  [226.0, 548.0, 130.0, 58.0]    usask_1\n",
              "2       b6ab77fd7   1024    1024  [377.0, 504.0, 74.0, 160.0]    usask_1\n",
              "3       b6ab77fd7   1024    1024  [834.0, 95.0, 109.0, 107.0]    usask_1\n",
              "4       b6ab77fd7   1024    1024  [26.0, 144.0, 124.0, 117.0]    usask_1\n",
              "...           ...    ...     ...                          ...        ...\n",
              "147788  5e0747034   1024    1024    [64.0, 619.0, 84.0, 95.0]  arvalis_2\n",
              "147789  5e0747034   1024    1024  [292.0, 549.0, 107.0, 82.0]  arvalis_2\n",
              "147790  5e0747034   1024    1024  [134.0, 228.0, 141.0, 71.0]  arvalis_2\n",
              "147791  5e0747034   1024    1024   [430.0, 13.0, 184.0, 79.0]  arvalis_2\n",
              "147792  5e0747034   1024    1024   [875.0, 740.0, 94.0, 61.0]  arvalis_2\n",
              "\n",
              "[147793 rows x 5 columns]"
            ],
            "text/html": [
              "\n",
              "  <div id=\"df-f6e4947a-5f1e-4003-9357-b4c672062aaa\">\n",
              "    <div class=\"colab-df-container\">\n",
              "      <div>\n",
              "<style scoped>\n",
              "    .dataframe tbody tr th:only-of-type {\n",
              "        vertical-align: middle;\n",
              "    }\n",
              "\n",
              "    .dataframe tbody tr th {\n",
              "        vertical-align: top;\n",
              "    }\n",
              "\n",
              "    .dataframe thead th {\n",
              "        text-align: right;\n",
              "    }\n",
              "</style>\n",
              "<table border=\"1\" class=\"dataframe\">\n",
              "  <thead>\n",
              "    <tr style=\"text-align: right;\">\n",
              "      <th></th>\n",
              "      <th>image_id</th>\n",
              "      <th>width</th>\n",
              "      <th>height</th>\n",
              "      <th>bbox</th>\n",
              "      <th>source</th>\n",
              "    </tr>\n",
              "  </thead>\n",
              "  <tbody>\n",
              "    <tr>\n",
              "      <th>0</th>\n",
              "      <td>b6ab77fd7</td>\n",
              "      <td>1024</td>\n",
              "      <td>1024</td>\n",
              "      <td>[834.0, 222.0, 56.0, 36.0]</td>\n",
              "      <td>usask_1</td>\n",
              "    </tr>\n",
              "    <tr>\n",
              "      <th>1</th>\n",
              "      <td>b6ab77fd7</td>\n",
              "      <td>1024</td>\n",
              "      <td>1024</td>\n",
              "      <td>[226.0, 548.0, 130.0, 58.0]</td>\n",
              "      <td>usask_1</td>\n",
              "    </tr>\n",
              "    <tr>\n",
              "      <th>2</th>\n",
              "      <td>b6ab77fd7</td>\n",
              "      <td>1024</td>\n",
              "      <td>1024</td>\n",
              "      <td>[377.0, 504.0, 74.0, 160.0]</td>\n",
              "      <td>usask_1</td>\n",
              "    </tr>\n",
              "    <tr>\n",
              "      <th>3</th>\n",
              "      <td>b6ab77fd7</td>\n",
              "      <td>1024</td>\n",
              "      <td>1024</td>\n",
              "      <td>[834.0, 95.0, 109.0, 107.0]</td>\n",
              "      <td>usask_1</td>\n",
              "    </tr>\n",
              "    <tr>\n",
              "      <th>4</th>\n",
              "      <td>b6ab77fd7</td>\n",
              "      <td>1024</td>\n",
              "      <td>1024</td>\n",
              "      <td>[26.0, 144.0, 124.0, 117.0]</td>\n",
              "      <td>usask_1</td>\n",
              "    </tr>\n",
              "    <tr>\n",
              "      <th>...</th>\n",
              "      <td>...</td>\n",
              "      <td>...</td>\n",
              "      <td>...</td>\n",
              "      <td>...</td>\n",
              "      <td>...</td>\n",
              "    </tr>\n",
              "    <tr>\n",
              "      <th>147788</th>\n",
              "      <td>5e0747034</td>\n",
              "      <td>1024</td>\n",
              "      <td>1024</td>\n",
              "      <td>[64.0, 619.0, 84.0, 95.0]</td>\n",
              "      <td>arvalis_2</td>\n",
              "    </tr>\n",
              "    <tr>\n",
              "      <th>147789</th>\n",
              "      <td>5e0747034</td>\n",
              "      <td>1024</td>\n",
              "      <td>1024</td>\n",
              "      <td>[292.0, 549.0, 107.0, 82.0]</td>\n",
              "      <td>arvalis_2</td>\n",
              "    </tr>\n",
              "    <tr>\n",
              "      <th>147790</th>\n",
              "      <td>5e0747034</td>\n",
              "      <td>1024</td>\n",
              "      <td>1024</td>\n",
              "      <td>[134.0, 228.0, 141.0, 71.0]</td>\n",
              "      <td>arvalis_2</td>\n",
              "    </tr>\n",
              "    <tr>\n",
              "      <th>147791</th>\n",
              "      <td>5e0747034</td>\n",
              "      <td>1024</td>\n",
              "      <td>1024</td>\n",
              "      <td>[430.0, 13.0, 184.0, 79.0]</td>\n",
              "      <td>arvalis_2</td>\n",
              "    </tr>\n",
              "    <tr>\n",
              "      <th>147792</th>\n",
              "      <td>5e0747034</td>\n",
              "      <td>1024</td>\n",
              "      <td>1024</td>\n",
              "      <td>[875.0, 740.0, 94.0, 61.0]</td>\n",
              "      <td>arvalis_2</td>\n",
              "    </tr>\n",
              "  </tbody>\n",
              "</table>\n",
              "<p>147793 rows × 5 columns</p>\n",
              "</div>\n",
              "      <button class=\"colab-df-convert\" onclick=\"convertToInteractive('df-f6e4947a-5f1e-4003-9357-b4c672062aaa')\"\n",
              "              title=\"Convert this dataframe to an interactive table.\"\n",
              "              style=\"display:none;\">\n",
              "        \n",
              "  <svg xmlns=\"http://www.w3.org/2000/svg\" height=\"24px\"viewBox=\"0 0 24 24\"\n",
              "       width=\"24px\">\n",
              "    <path d=\"M0 0h24v24H0V0z\" fill=\"none\"/>\n",
              "    <path d=\"M18.56 5.44l.94 2.06.94-2.06 2.06-.94-2.06-.94-.94-2.06-.94 2.06-2.06.94zm-11 1L8.5 8.5l.94-2.06 2.06-.94-2.06-.94L8.5 2.5l-.94 2.06-2.06.94zm10 10l.94 2.06.94-2.06 2.06-.94-2.06-.94-.94-2.06-.94 2.06-2.06.94z\"/><path d=\"M17.41 7.96l-1.37-1.37c-.4-.4-.92-.59-1.43-.59-.52 0-1.04.2-1.43.59L10.3 9.45l-7.72 7.72c-.78.78-.78 2.05 0 2.83L4 21.41c.39.39.9.59 1.41.59.51 0 1.02-.2 1.41-.59l7.78-7.78 2.81-2.81c.8-.78.8-2.07 0-2.86zM5.41 20L4 18.59l7.72-7.72 1.47 1.35L5.41 20z\"/>\n",
              "  </svg>\n",
              "      </button>\n",
              "      \n",
              "  <style>\n",
              "    .colab-df-container {\n",
              "      display:flex;\n",
              "      flex-wrap:wrap;\n",
              "      gap: 12px;\n",
              "    }\n",
              "\n",
              "    .colab-df-convert {\n",
              "      background-color: #E8F0FE;\n",
              "      border: none;\n",
              "      border-radius: 50%;\n",
              "      cursor: pointer;\n",
              "      display: none;\n",
              "      fill: #1967D2;\n",
              "      height: 32px;\n",
              "      padding: 0 0 0 0;\n",
              "      width: 32px;\n",
              "    }\n",
              "\n",
              "    .colab-df-convert:hover {\n",
              "      background-color: #E2EBFA;\n",
              "      box-shadow: 0px 1px 2px rgba(60, 64, 67, 0.3), 0px 1px 3px 1px rgba(60, 64, 67, 0.15);\n",
              "      fill: #174EA6;\n",
              "    }\n",
              "\n",
              "    [theme=dark] .colab-df-convert {\n",
              "      background-color: #3B4455;\n",
              "      fill: #D2E3FC;\n",
              "    }\n",
              "\n",
              "    [theme=dark] .colab-df-convert:hover {\n",
              "      background-color: #434B5C;\n",
              "      box-shadow: 0px 1px 3px 1px rgba(0, 0, 0, 0.15);\n",
              "      filter: drop-shadow(0px 1px 2px rgba(0, 0, 0, 0.3));\n",
              "      fill: #FFFFFF;\n",
              "    }\n",
              "  </style>\n",
              "\n",
              "      <script>\n",
              "        const buttonEl =\n",
              "          document.querySelector('#df-f6e4947a-5f1e-4003-9357-b4c672062aaa button.colab-df-convert');\n",
              "        buttonEl.style.display =\n",
              "          google.colab.kernel.accessAllowed ? 'block' : 'none';\n",
              "\n",
              "        async function convertToInteractive(key) {\n",
              "          const element = document.querySelector('#df-f6e4947a-5f1e-4003-9357-b4c672062aaa');\n",
              "          const dataTable =\n",
              "            await google.colab.kernel.invokeFunction('convertToInteractive',\n",
              "                                                     [key], {});\n",
              "          if (!dataTable) return;\n",
              "\n",
              "          const docLinkHtml = 'Like what you see? Visit the ' +\n",
              "            '<a target=\"_blank\" href=https://colab.research.google.com/notebooks/data_table.ipynb>data table notebook</a>'\n",
              "            + ' to learn more about interactive tables.';\n",
              "          element.innerHTML = '';\n",
              "          dataTable['output_type'] = 'display_data';\n",
              "          await google.colab.output.renderOutput(dataTable, element);\n",
              "          const docLink = document.createElement('div');\n",
              "          docLink.innerHTML = docLinkHtml;\n",
              "          element.appendChild(docLink);\n",
              "        }\n",
              "      </script>\n",
              "    </div>\n",
              "  </div>\n",
              "  "
            ]
          },
          "metadata": {},
          "execution_count": 6
        }
      ]
    },
    {
      "cell_type": "code",
      "source": [
        "%cd /content/drive/MyDrive/kaggle/wheat/train\n",
        "%mkdir image\n",
        "%mv *.jpg ./image"
      ],
      "metadata": {
        "colab": {
          "base_uri": "https://localhost:8080/"
        },
        "id": "zkdl115z6s1y",
        "outputId": "676064b7-148a-4401-cb55-a8aeb5965bbf"
      },
      "execution_count": null,
      "outputs": [
        {
          "output_type": "stream",
          "name": "stdout",
          "text": [
            "/content/drive/MyDrive/kaggle/wheat/train\n"
          ]
        }
      ]
    },
    {
      "cell_type": "code",
      "source": [
        "len(os.listdir('/content/drive/MyDrive/kaggle/wheat/train/image'))"
      ],
      "metadata": {
        "colab": {
          "base_uri": "https://localhost:8080/",
          "height": 175
        },
        "id": "v79Gx_9-Uxmv",
        "outputId": "fc4e5203-ee75-4570-b355-48c1b771dc33"
      },
      "execution_count": null,
      "outputs": [
        {
          "output_type": "error",
          "ename": "FileNotFoundError",
          "evalue": "ignored",
          "traceback": [
            "\u001b[0;31m---------------------------------------------------------------------------\u001b[0m",
            "\u001b[0;31mFileNotFoundError\u001b[0m                         Traceback (most recent call last)",
            "\u001b[0;32m<ipython-input-3-f24826b2090e>\u001b[0m in \u001b[0;36m<module>\u001b[0;34m()\u001b[0m\n\u001b[0;32m----> 1\u001b[0;31m \u001b[0mlen\u001b[0m\u001b[0;34m(\u001b[0m\u001b[0mos\u001b[0m\u001b[0;34m.\u001b[0m\u001b[0mlistdir\u001b[0m\u001b[0;34m(\u001b[0m\u001b[0;34m'/content/drive/MyDrive/kaggle/wheat/train/image'\u001b[0m\u001b[0;34m)\u001b[0m\u001b[0;34m)\u001b[0m\u001b[0;34m\u001b[0m\u001b[0;34m\u001b[0m\u001b[0m\n\u001b[0m",
            "\u001b[0;31mFileNotFoundError\u001b[0m: [Errno 2] No such file or directory: '/content/drive/MyDrive/kaggle/wheat/train/image'"
          ]
        }
      ]
    },
    {
      "cell_type": "code",
      "source": [
        "len(df[\"image_id\"].unique())"
      ],
      "metadata": {
        "colab": {
          "base_uri": "https://localhost:8080/"
        },
        "id": "xmobVHq86suE",
        "outputId": "37fd1af2-6a9e-4201-a4f3-7ae564735807"
      },
      "execution_count": null,
      "outputs": [
        {
          "output_type": "execute_result",
          "data": {
            "text/plain": [
              "3373"
            ]
          },
          "metadata": {},
          "execution_count": 13
        }
      ]
    },
    {
      "cell_type": "code",
      "source": [
        "files = os.listdir(\"/content/drive/MyDrive/kaggle/wheat/train/image\")\n",
        "id_list = []\n",
        "for f in files:\n",
        "  if not f[:-4] in df[\"image_id\"].values:\n",
        "    id_list.append(f)\n",
        "\n",
        "id_list"
      ],
      "metadata": {
        "id": "BJCN0xOB6sq5"
      },
      "execution_count": null,
      "outputs": []
    },
    {
      "cell_type": "code",
      "source": [
        "len(id_list)"
      ],
      "metadata": {
        "colab": {
          "base_uri": "https://localhost:8080/"
        },
        "id": "TfkmWtgc6slt",
        "outputId": "ca06feaa-4856-4d56-8a52-2dae1a118beb"
      },
      "execution_count": null,
      "outputs": [
        {
          "output_type": "execute_result",
          "data": {
            "text/plain": [
              "49"
            ]
          },
          "metadata": {},
          "execution_count": 28
        }
      ]
    },
    {
      "cell_type": "code",
      "source": [
        "id_list"
      ],
      "metadata": {
        "colab": {
          "base_uri": "https://localhost:8080/"
        },
        "id": "rSaPoSVmD8UL",
        "outputId": "e952ca9e-d874-4b15-d66f-47d068ac1a27"
      },
      "execution_count": null,
      "outputs": [
        {
          "output_type": "execute_result",
          "data": {
            "text/plain": [
              "['b45c5294d.jpg',\n",
              " 'c18c32da0.jpg',\n",
              " 'c74ca81bd.jpg',\n",
              " 'cfc9040ca.jpg',\n",
              " 'cf1d2f504.jpg',\n",
              " 'ccb3892c1.jpg',\n",
              " 'd83808467.jpg',\n",
              " 'd7e657453.jpg',\n",
              " 'd771bb084.jpg',\n",
              " 'dec23c826.jpg',\n",
              " 'de2a3cf37.jpg',\n",
              " 'dd5d2fa9e.jpg',\n",
              " 'e01ad95cf.jpg',\n",
              " 'e4ec17f9b.jpg',\n",
              " 'ec196d18a.jpg',\n",
              " 'ed00a614d.jpg',\n",
              " 'f2a6804d2.jpg',\n",
              " 'f9cafa47f.jpg',\n",
              " 'f530a5d4b.jpg',\n",
              " 'ffbb9c623.jpg',\n",
              " '7e1caf1f7.jpg',\n",
              " '8425a537b.jpg',\n",
              " '83a94fc79.jpg',\n",
              " '8a5cb62db.jpg',\n",
              " '8de789df8.jpg',\n",
              " '952e7d15c.jpg',\n",
              " '91d4e3750.jpg',\n",
              " '9e21e7969.jpg',\n",
              " 'a3ce975cd.jpg',\n",
              " 'ab20ec355.jpg',\n",
              " '1a9792bfc.jpg',\n",
              " '2e6c333a7.jpg',\n",
              " '2d80f9c49.jpg',\n",
              " '3116768f0.jpg',\n",
              " '39a0e5556.jpg',\n",
              " '45fddc611.jpg',\n",
              " '46c6a747a.jpg',\n",
              " '49e40c7a4.jpg',\n",
              " '526d737d1.jpg',\n",
              " '5901a73fe.jpg',\n",
              " '581eaf87b.jpg',\n",
              " '5cbd092f9.jpg',\n",
              " '65d0b13aa.jpg',\n",
              " '6584c18c0.jpg',\n",
              " '69352f3fa.jpg',\n",
              " '00b5c6764.jpg',\n",
              " '0cf7ef43d.jpg',\n",
              " '0e7832f0b.jpg',\n",
              " '155c440e8.jpg']"
            ]
          },
          "metadata": {},
          "execution_count": 29
        }
      ]
    },
    {
      "cell_type": "code",
      "source": [
        "img = mpimg.imread('/content/drive/MyDrive/kaggle/wheat/train/image/b45c5294d.jpg')\n",
        "plt.imshow(img)"
      ],
      "metadata": {
        "id": "Kx9v0dkzD8Rq"
      },
      "execution_count": null,
      "outputs": []
    },
    {
      "cell_type": "code",
      "source": [
        "fig = plt.figure(figsize=(20,40))\n",
        "X = 10\n",
        "Y = 5\n",
        "\n",
        "for i, _f in enumerate(id_list):\n",
        "  img = mpimg.imread(f\"/content/drive/MyDrive/kaggle/wheat/train/image/{_f}\")\n",
        "  ax = f\"ax{i}\"\n",
        "  ax = fig.add_subplot(X, Y, i + 1)\n",
        "  ax.set_title(_f,fontsize=20)\n",
        "  ax.tick_params(labelbottom=False,\n",
        "               labelleft=False)\n",
        "  plt.imshow(img)\n",
        "\n"
      ],
      "metadata": {
        "id": "XosOIr3XD8PX"
      },
      "execution_count": null,
      "outputs": []
    },
    {
      "cell_type": "code",
      "source": [
        ""
      ],
      "metadata": {
        "id": "Kxtdoz21D8G-"
      },
      "execution_count": null,
      "outputs": []
    },
    {
      "cell_type": "code",
      "source": [
        "import shutil\n",
        "for _f in id_list:\n",
        "  new_path = shutil.move(f\"/content/drive/MyDrive/kaggle/wheat/train/image/{_f}\", \"/content/drive/MyDrive/kaggle/wheat/train/image_rem/\")"
      ],
      "metadata": {
        "id": "4Qj08R1DXE_k"
      },
      "execution_count": null,
      "outputs": []
    },
    {
      "cell_type": "code",
      "source": [
        "len(os.listdir('/content/drive/MyDrive/kaggle/wheat/train/image'))"
      ],
      "metadata": {
        "colab": {
          "base_uri": "https://localhost:8080/"
        },
        "id": "eHUt7jVRYJfk",
        "outputId": "459c0c21-67ac-4219-e715-6577efeb4756"
      },
      "execution_count": null,
      "outputs": [
        {
          "output_type": "execute_result",
          "data": {
            "text/plain": [
              "3373"
            ]
          },
          "metadata": {},
          "execution_count": 53
        }
      ]
    },
    {
      "cell_type": "code",
      "source": [
        "df[:1]"
      ],
      "metadata": {
        "colab": {
          "base_uri": "https://localhost:8080/",
          "height": 81
        },
        "id": "MTSAXxeBXE8-",
        "outputId": "6f800a91-d58a-4ad3-cd46-4dd32d2bbb41"
      },
      "execution_count": null,
      "outputs": [
        {
          "output_type": "execute_result",
          "data": {
            "text/plain": [
              "    image_id  width  height                        bbox   source\n",
              "0  b6ab77fd7   1024    1024  [834.0, 222.0, 56.0, 36.0]  usask_1"
            ],
            "text/html": [
              "\n",
              "  <div id=\"df-5c4a6bcf-76f6-4526-80e3-4af53815ef41\">\n",
              "    <div class=\"colab-df-container\">\n",
              "      <div>\n",
              "<style scoped>\n",
              "    .dataframe tbody tr th:only-of-type {\n",
              "        vertical-align: middle;\n",
              "    }\n",
              "\n",
              "    .dataframe tbody tr th {\n",
              "        vertical-align: top;\n",
              "    }\n",
              "\n",
              "    .dataframe thead th {\n",
              "        text-align: right;\n",
              "    }\n",
              "</style>\n",
              "<table border=\"1\" class=\"dataframe\">\n",
              "  <thead>\n",
              "    <tr style=\"text-align: right;\">\n",
              "      <th></th>\n",
              "      <th>image_id</th>\n",
              "      <th>width</th>\n",
              "      <th>height</th>\n",
              "      <th>bbox</th>\n",
              "      <th>source</th>\n",
              "    </tr>\n",
              "  </thead>\n",
              "  <tbody>\n",
              "    <tr>\n",
              "      <th>0</th>\n",
              "      <td>b6ab77fd7</td>\n",
              "      <td>1024</td>\n",
              "      <td>1024</td>\n",
              "      <td>[834.0, 222.0, 56.0, 36.0]</td>\n",
              "      <td>usask_1</td>\n",
              "    </tr>\n",
              "  </tbody>\n",
              "</table>\n",
              "</div>\n",
              "      <button class=\"colab-df-convert\" onclick=\"convertToInteractive('df-5c4a6bcf-76f6-4526-80e3-4af53815ef41')\"\n",
              "              title=\"Convert this dataframe to an interactive table.\"\n",
              "              style=\"display:none;\">\n",
              "        \n",
              "  <svg xmlns=\"http://www.w3.org/2000/svg\" height=\"24px\"viewBox=\"0 0 24 24\"\n",
              "       width=\"24px\">\n",
              "    <path d=\"M0 0h24v24H0V0z\" fill=\"none\"/>\n",
              "    <path d=\"M18.56 5.44l.94 2.06.94-2.06 2.06-.94-2.06-.94-.94-2.06-.94 2.06-2.06.94zm-11 1L8.5 8.5l.94-2.06 2.06-.94-2.06-.94L8.5 2.5l-.94 2.06-2.06.94zm10 10l.94 2.06.94-2.06 2.06-.94-2.06-.94-.94-2.06-.94 2.06-2.06.94z\"/><path d=\"M17.41 7.96l-1.37-1.37c-.4-.4-.92-.59-1.43-.59-.52 0-1.04.2-1.43.59L10.3 9.45l-7.72 7.72c-.78.78-.78 2.05 0 2.83L4 21.41c.39.39.9.59 1.41.59.51 0 1.02-.2 1.41-.59l7.78-7.78 2.81-2.81c.8-.78.8-2.07 0-2.86zM5.41 20L4 18.59l7.72-7.72 1.47 1.35L5.41 20z\"/>\n",
              "  </svg>\n",
              "      </button>\n",
              "      \n",
              "  <style>\n",
              "    .colab-df-container {\n",
              "      display:flex;\n",
              "      flex-wrap:wrap;\n",
              "      gap: 12px;\n",
              "    }\n",
              "\n",
              "    .colab-df-convert {\n",
              "      background-color: #E8F0FE;\n",
              "      border: none;\n",
              "      border-radius: 50%;\n",
              "      cursor: pointer;\n",
              "      display: none;\n",
              "      fill: #1967D2;\n",
              "      height: 32px;\n",
              "      padding: 0 0 0 0;\n",
              "      width: 32px;\n",
              "    }\n",
              "\n",
              "    .colab-df-convert:hover {\n",
              "      background-color: #E2EBFA;\n",
              "      box-shadow: 0px 1px 2px rgba(60, 64, 67, 0.3), 0px 1px 3px 1px rgba(60, 64, 67, 0.15);\n",
              "      fill: #174EA6;\n",
              "    }\n",
              "\n",
              "    [theme=dark] .colab-df-convert {\n",
              "      background-color: #3B4455;\n",
              "      fill: #D2E3FC;\n",
              "    }\n",
              "\n",
              "    [theme=dark] .colab-df-convert:hover {\n",
              "      background-color: #434B5C;\n",
              "      box-shadow: 0px 1px 3px 1px rgba(0, 0, 0, 0.15);\n",
              "      filter: drop-shadow(0px 1px 2px rgba(0, 0, 0, 0.3));\n",
              "      fill: #FFFFFF;\n",
              "    }\n",
              "  </style>\n",
              "\n",
              "      <script>\n",
              "        const buttonEl =\n",
              "          document.querySelector('#df-5c4a6bcf-76f6-4526-80e3-4af53815ef41 button.colab-df-convert');\n",
              "        buttonEl.style.display =\n",
              "          google.colab.kernel.accessAllowed ? 'block' : 'none';\n",
              "\n",
              "        async function convertToInteractive(key) {\n",
              "          const element = document.querySelector('#df-5c4a6bcf-76f6-4526-80e3-4af53815ef41');\n",
              "          const dataTable =\n",
              "            await google.colab.kernel.invokeFunction('convertToInteractive',\n",
              "                                                     [key], {});\n",
              "          if (!dataTable) return;\n",
              "\n",
              "          const docLinkHtml = 'Like what you see? Visit the ' +\n",
              "            '<a target=\"_blank\" href=https://colab.research.google.com/notebooks/data_table.ipynb>data table notebook</a>'\n",
              "            + ' to learn more about interactive tables.';\n",
              "          element.innerHTML = '';\n",
              "          dataTable['output_type'] = 'display_data';\n",
              "          await google.colab.output.renderOutput(dataTable, element);\n",
              "          const docLink = document.createElement('div');\n",
              "          docLink.innerHTML = docLinkHtml;\n",
              "          element.appendChild(docLink);\n",
              "        }\n",
              "      </script>\n",
              "    </div>\n",
              "  </div>\n",
              "  "
            ]
          },
          "metadata": {},
          "execution_count": 22
        }
      ]
    },
    {
      "cell_type": "code",
      "source": [
        "%rm /content/drive/MyDrive/kaggle/wheat/train/image/*.txt"
      ],
      "metadata": {
        "id": "jsdhzgmUiBo4"
      },
      "execution_count": null,
      "outputs": []
    },
    {
      "cell_type": "code",
      "source": [
        "%rm /content/drive/MyDrive/kaggle/wheat/val/image/*.txt"
      ],
      "metadata": {
        "id": "ExOLpwNaAHb5"
      },
      "execution_count": null,
      "outputs": []
    },
    {
      "cell_type": "code",
      "source": [
        "%mv /content/drive/MyDrive/kaggle/wheat/train/image/*.txt /content/drive/MyDrive/kaggle/wheat/train/label/"
      ],
      "metadata": {
        "id": "tTvPfUF8AYQG"
      },
      "execution_count": null,
      "outputs": []
    },
    {
      "cell_type": "code",
      "source": [
        "len(os.listdir(\"/content/drive/MyDrive/kaggle/wheat/train/image/\"))"
      ],
      "metadata": {
        "colab": {
          "base_uri": "https://localhost:8080/"
        },
        "id": "v0M85mgPAlJk",
        "outputId": "e5a966a4-276f-46d1-940e-8e278dae05cb"
      },
      "execution_count": null,
      "outputs": [
        {
          "output_type": "execute_result",
          "data": {
            "text/plain": [
              "3373"
            ]
          },
          "metadata": {},
          "execution_count": 144
        }
      ]
    },
    {
      "cell_type": "code",
      "source": [
        "for id in df[\"image_id\"].unique():\n",
        "  path = f\"/content/drive/MyDrive/kaggle/wheat/train/label/{id}.txt\"\n",
        "  txt = \"\"\n",
        "  img_width = 1024\n",
        "  img_height = 1024\n",
        "\n",
        "  bbox_txt = df.loc[df[\"image_id\"] == id, \"bbox\"].to_string(index=False)\n",
        "  bbox_txt = re.sub(\"[ \\[\\]]\", \"\", bbox_txt)\n",
        "  bbox_txt = bbox_txt.replace(\"[\",\"1 \").replace(\",\",\" \")\n",
        "\n",
        "  for line in bbox_txt.split(\"\\n\"):\n",
        "    param_list = line.split(\" \")\n",
        "    x_min = float(param_list[0])\n",
        "    y_min = float(param_list[1])\n",
        "    width = float(param_list[2])\n",
        "    height = float(param_list[3].replace(\"...\",\"\"))\n",
        "\n",
        "    x_mid = x_min + width/2\n",
        "    y_mid = y_min + height/2\n",
        "\n",
        "    x_mid_nor = x_mid/img_width\n",
        "    y_mid_nor = y_mid/img_height\n",
        "    width_nor = width/img_width\n",
        "    height_nor = height/img_height\n",
        "\n",
        "    line_mod = f\"0 {x_mid_nor} {y_mid_nor} {width_nor} {height_nor}\"\n",
        "    txt += line_mod + \"\\n\"\n",
        "\n",
        "  f = open(path, 'w')\n",
        "  f.write(txt) \n",
        "  f.close()"
      ],
      "metadata": {
        "id": "zeZfYA6fXE6U"
      },
      "execution_count": null,
      "outputs": []
    },
    {
      "cell_type": "code",
      "source": [
        "len(os.listdir(\"/content/drive/MyDrive/kaggle/wheat/train/label\"))"
      ],
      "metadata": {
        "colab": {
          "base_uri": "https://localhost:8080/"
        },
        "id": "L5j6wr1Wwqn2",
        "outputId": "bfe8348d-d7ee-4f9a-82d1-ea4042608a64"
      },
      "execution_count": null,
      "outputs": [
        {
          "output_type": "execute_result",
          "data": {
            "text/plain": [
              "3373"
            ]
          },
          "metadata": {},
          "execution_count": 16
        }
      ]
    },
    {
      "cell_type": "code",
      "source": [
        ""
      ],
      "metadata": {
        "id": "urY9hzmhwqks"
      },
      "execution_count": null,
      "outputs": []
    },
    {
      "cell_type": "code",
      "source": [
        "random.seed(0)\n",
        "val_list = random.sample(list(df[\"image_id\"].unique()), len(df[\"image_id\"].unique())//5)\n",
        "len(val_list)"
      ],
      "metadata": {
        "colab": {
          "base_uri": "https://localhost:8080/"
        },
        "id": "L0HI6N1Uwqhc",
        "outputId": "cde9722b-295d-46d8-cdaf-85bc3fc302fc"
      },
      "execution_count": null,
      "outputs": [
        {
          "output_type": "execute_result",
          "data": {
            "text/plain": [
              "674"
            ]
          },
          "metadata": {},
          "execution_count": 18
        }
      ]
    },
    {
      "cell_type": "code",
      "source": [
        "for id in val_list:\n",
        "  new_imgpath = shutil.move(f\"/content/drive/MyDrive/kaggle/wheat/train/image/{id}.jpg\", \"/content/drive/MyDrive/kaggle/wheat/val/image\")\n",
        "  new_labelpath = shutil.move(f\"/content/drive/MyDrive/kaggle/wheat/train/label/{id}.txt\", \"/content/drive/MyDrive/kaggle/wheat/val/label\")"
      ],
      "metadata": {
        "id": "Poi3WrPvwqTG"
      },
      "execution_count": null,
      "outputs": []
    },
    {
      "cell_type": "code",
      "source": [
        "%cd /content/drive/MyDrive/kaggle/wheat/yolov5"
      ],
      "metadata": {
        "colab": {
          "base_uri": "https://localhost:8080/"
        },
        "id": "4WQzSPjB0-Vp",
        "outputId": "94b19b00-300f-4472-b8f0-99c52be6ffe0"
      },
      "execution_count": null,
      "outputs": [
        {
          "output_type": "stream",
          "name": "stdout",
          "text": [
            "/content/drive/MyDrive/kaggle/wheat/yolov5\n"
          ]
        }
      ]
    },
    {
      "cell_type": "code",
      "source": [
        "%load_ext tensorboard\n",
        "%tensorboard --logdir /content/drive/MyDrive/kaggle/wheat/learnig_log"
      ],
      "metadata": {
        "id": "1y50VVe-zhL1"
      },
      "execution_count": null,
      "outputs": []
    },
    {
      "cell_type": "code",
      "source": [
        "!python train.py --img 1024 --data wheat.yaml --cfg yolov5m.yaml --weights '' --project '/content/drive/MyDrive/kaggle/wheat/learnig_log' --batch-size 16 --epochs 150"
      ],
      "metadata": {
        "colab": {
          "base_uri": "https://localhost:8080/"
        },
        "id": "E1Lg4ODiDf_7",
        "outputId": "d2ab8dcb-f9d2-44c9-b5e7-188de2109f96"
      },
      "execution_count": null,
      "outputs": [
        {
          "output_type": "stream",
          "name": "stdout",
          "text": [
            "\u001b[34m\u001b[1mtrain: \u001b[0mweights=, cfg=yolov5m.yaml, data=wheat.yaml, hyp=data/hyps/hyp.scratch-low.yaml, epochs=150, batch_size=16, imgsz=1024, rect=False, resume=False, nosave=False, noval=False, noautoanchor=False, noplots=False, evolve=None, bucket=, cache=None, image_weights=False, device=, multi_scale=False, single_cls=False, optimizer=SGD, sync_bn=False, workers=8, project=/content/drive/MyDrive/kaggle/wheat/learnig_log, name=exp, exist_ok=False, quad=False, cos_lr=False, label_smoothing=0.0, patience=100, freeze=[0], save_period=-1, local_rank=-1, entity=None, upload_dataset=False, bbox_interval=-1, artifact_alias=latest\n",
            "\u001b[34m\u001b[1mgithub: \u001b[0m⚠️ YOLOv5 is out of date by 8 commits. Use `git pull` or `git clone https://github.com/ultralytics/yolov5` to update.\n",
            "YOLOv5 🚀 v6.1-168-g5743deb torch 1.11.0+cu113 CUDA:0 (Tesla T4, 15110MiB)\n",
            "\n",
            "\u001b[34m\u001b[1mhyperparameters: \u001b[0mlr0=0.01, lrf=0.01, momentum=0.937, weight_decay=0.0005, warmup_epochs=3.0, warmup_momentum=0.8, warmup_bias_lr=0.1, box=0.05, cls=0.5, cls_pw=1.0, obj=1.0, obj_pw=1.0, iou_t=0.2, anchor_t=4.0, fl_gamma=0.0, hsv_h=0.015, hsv_s=0.7, hsv_v=0.4, degrees=0.0, translate=0.1, scale=0.5, shear=0.0, perspective=0.0, flipud=0.0, fliplr=0.5, mosaic=1.0, mixup=0.0, copy_paste=0.0\n",
            "\u001b[34m\u001b[1mWeights & Biases: \u001b[0mrun 'pip install wandb' to automatically track and visualize YOLOv5 🚀 runs (RECOMMENDED)\n",
            "\u001b[34m\u001b[1mTensorBoard: \u001b[0mStart with 'tensorboard --logdir /content/drive/MyDrive/kaggle/wheat/learnig_log', view at http://localhost:6006/\n",
            "Overriding model.yaml nc=80 with nc=1\n",
            "\n",
            "                 from  n    params  module                                  arguments                     \n",
            "  0                -1  1      5280  models.common.Conv                      [3, 48, 6, 2, 2]              \n",
            "  1                -1  1     41664  models.common.Conv                      [48, 96, 3, 2]                \n",
            "  2                -1  2     65280  models.common.C3                        [96, 96, 2]                   \n",
            "  3                -1  1    166272  models.common.Conv                      [96, 192, 3, 2]               \n",
            "  4                -1  4    444672  models.common.C3                        [192, 192, 4]                 \n",
            "  5                -1  1    664320  models.common.Conv                      [192, 384, 3, 2]              \n",
            "  6                -1  6   2512896  models.common.C3                        [384, 384, 6]                 \n",
            "  7                -1  1   2655744  models.common.Conv                      [384, 768, 3, 2]              \n",
            "  8                -1  2   4134912  models.common.C3                        [768, 768, 2]                 \n",
            "  9                -1  1   1476864  models.common.SPPF                      [768, 768, 5]                 \n",
            " 10                -1  1    295680  models.common.Conv                      [768, 384, 1, 1]              \n",
            " 11                -1  1         0  torch.nn.modules.upsampling.Upsample    [None, 2, 'nearest']          \n",
            " 12           [-1, 6]  1         0  models.common.Concat                    [1]                           \n",
            " 13                -1  2   1182720  models.common.C3                        [768, 384, 2, False]          \n",
            " 14                -1  1     74112  models.common.Conv                      [384, 192, 1, 1]              \n",
            " 15                -1  1         0  torch.nn.modules.upsampling.Upsample    [None, 2, 'nearest']          \n",
            " 16           [-1, 4]  1         0  models.common.Concat                    [1]                           \n",
            " 17                -1  2    296448  models.common.C3                        [384, 192, 2, False]          \n",
            " 18                -1  1    332160  models.common.Conv                      [192, 192, 3, 2]              \n",
            " 19          [-1, 14]  1         0  models.common.Concat                    [1]                           \n",
            " 20                -1  2   1035264  models.common.C3                        [384, 384, 2, False]          \n",
            " 21                -1  1   1327872  models.common.Conv                      [384, 384, 3, 2]              \n",
            " 22          [-1, 10]  1         0  models.common.Concat                    [1]                           \n",
            " 23                -1  2   4134912  models.common.C3                        [768, 768, 2, False]          \n",
            " 24      [17, 20, 23]  1     24246  models.yolo.Detect                      [1, [[10, 13, 16, 30, 33, 23], [30, 61, 62, 45, 59, 119], [116, 90, 156, 198, 373, 326]], [192, 384, 768]]\n",
            "YOLOv5m summary: 369 layers, 20871318 parameters, 20871318 gradients\n",
            "\n",
            "Scaled weight_decay = 0.0005\n",
            "\u001b[34m\u001b[1moptimizer:\u001b[0m SGD with parameter groups 79 weight (no decay), 82 weight, 82 bias\n",
            "\u001b[34m\u001b[1malbumentations: \u001b[0mversion 1.0.3 required by YOLOv5, but version 0.1.12 is currently installed\n",
            "\u001b[34m\u001b[1mtrain: \u001b[0mScanning '/content/drive/MyDrive/kaggle/wheat/train/labels.cache' images and labels... 2699 found, 0 missing, 0 empty, 0 corrupt: 100% 2699/2699 [00:00<?, ?it/s]\n",
            "\u001b[34m\u001b[1mval: \u001b[0mScanning '/content/drive/MyDrive/kaggle/wheat/val/labels.cache' images and labels... 674 found, 0 missing, 0 empty, 0 corrupt: 100% 674/674 [00:00<?, ?it/s]\n",
            "Plotting labels to /content/drive/MyDrive/kaggle/wheat/learnig_log/exp/labels.jpg... \n",
            "\n",
            "\u001b[34m\u001b[1mAutoAnchor: \u001b[0m5.73 anchors/target, 0.999 Best Possible Recall (BPR). Current anchors are a good fit to dataset ✅\n",
            "Image sizes 1024 train, 1024 val\n",
            "Using 2 dataloader workers\n",
            "Logging results to \u001b[1m/content/drive/MyDrive/kaggle/wheat/learnig_log/exp\u001b[0m\n",
            "Starting training for 150 epochs...\n",
            "\n",
            "     Epoch   gpu_mem       box       obj       cls    labels  img_size\n",
            "     0/149     14.3G   0.09617     0.404         0       429      1024: 100% 169/169 [03:57<00:00,  1.41s/it]\n",
            "               Class     Images     Labels          P          R     mAP@.5 mAP@.5:.95:   0% 0/22 [00:00<?, ?it/s]WARNING: NMS time limit 1.060s exceeded\n",
            "               Class     Images     Labels          P          R     mAP@.5 mAP@.5:.95:   5% 1/22 [00:02<00:45,  2.16s/it]WARNING: NMS time limit 1.060s exceeded\n",
            "               Class     Images     Labels          P          R     mAP@.5 mAP@.5:.95:   9% 2/22 [00:03<00:38,  1.92s/it]WARNING: NMS time limit 1.060s exceeded\n",
            "               Class     Images     Labels          P          R     mAP@.5 mAP@.5:.95:  14% 3/22 [00:05<00:35,  1.85s/it]WARNING: NMS time limit 1.060s exceeded\n",
            "               Class     Images     Labels          P          R     mAP@.5 mAP@.5:.95:  18% 4/22 [00:07<00:32,  1.80s/it]WARNING: NMS time limit 1.060s exceeded\n",
            "               Class     Images     Labels          P          R     mAP@.5 mAP@.5:.95:  23% 5/22 [00:09<00:30,  1.77s/it]WARNING: NMS time limit 1.060s exceeded\n",
            "               Class     Images     Labels          P          R     mAP@.5 mAP@.5:.95:  27% 6/22 [00:10<00:28,  1.76s/it]WARNING: NMS time limit 1.060s exceeded\n",
            "               Class     Images     Labels          P          R     mAP@.5 mAP@.5:.95:  32% 7/22 [00:12<00:26,  1.75s/it]WARNING: NMS time limit 1.060s exceeded\n",
            "               Class     Images     Labels          P          R     mAP@.5 mAP@.5:.95:  36% 8/22 [00:14<00:24,  1.74s/it]WARNING: NMS time limit 1.060s exceeded\n",
            "               Class     Images     Labels          P          R     mAP@.5 mAP@.5:.95:  41% 9/22 [00:16<00:22,  1.73s/it]WARNING: NMS time limit 1.060s exceeded\n",
            "               Class     Images     Labels          P          R     mAP@.5 mAP@.5:.95:  45% 10/22 [00:17<00:20,  1.73s/it]WARNING: NMS time limit 1.060s exceeded\n",
            "               Class     Images     Labels          P          R     mAP@.5 mAP@.5:.95:  50% 11/22 [00:19<00:19,  1.74s/it]WARNING: NMS time limit 1.060s exceeded\n",
            "               Class     Images     Labels          P          R     mAP@.5 mAP@.5:.95:  55% 12/22 [00:21<00:17,  1.73s/it]WARNING: NMS time limit 1.060s exceeded\n",
            "               Class     Images     Labels          P          R     mAP@.5 mAP@.5:.95:  59% 13/22 [00:22<00:15,  1.73s/it]WARNING: NMS time limit 1.060s exceeded\n",
            "               Class     Images     Labels          P          R     mAP@.5 mAP@.5:.95:  64% 14/22 [00:24<00:13,  1.73s/it]WARNING: NMS time limit 1.060s exceeded\n",
            "               Class     Images     Labels          P          R     mAP@.5 mAP@.5:.95:  68% 15/22 [00:26<00:12,  1.73s/it]WARNING: NMS time limit 1.060s exceeded\n",
            "               Class     Images     Labels          P          R     mAP@.5 mAP@.5:.95:  73% 16/22 [00:28<00:10,  1.74s/it]WARNING: NMS time limit 1.060s exceeded\n",
            "               Class     Images     Labels          P          R     mAP@.5 mAP@.5:.95:  77% 17/22 [00:29<00:08,  1.74s/it]WARNING: NMS time limit 1.060s exceeded\n",
            "               Class     Images     Labels          P          R     mAP@.5 mAP@.5:.95:  82% 18/22 [00:31<00:06,  1.73s/it]WARNING: NMS time limit 1.060s exceeded\n",
            "               Class     Images     Labels          P          R     mAP@.5 mAP@.5:.95:  86% 19/22 [00:33<00:05,  1.73s/it]WARNING: NMS time limit 1.060s exceeded\n",
            "               Class     Images     Labels          P          R     mAP@.5 mAP@.5:.95:  91% 20/22 [00:35<00:03,  1.73s/it]WARNING: NMS time limit 1.060s exceeded\n",
            "               Class     Images     Labels          P          R     mAP@.5 mAP@.5:.95: 100% 22/22 [00:37<00:00,  1.68s/it]\n",
            "                 all        674      15745      0.286      0.344      0.208     0.0529\n",
            "\n",
            "     Epoch   gpu_mem       box       obj       cls    labels  img_size\n",
            "     1/149     14.1G   0.07231    0.4303         0       519      1024: 100% 169/169 [03:55<00:00,  1.39s/it]\n",
            "               Class     Images     Labels          P          R     mAP@.5 mAP@.5:.95:   0% 0/22 [00:00<?, ?it/s]WARNING: NMS time limit 1.060s exceeded\n",
            "               Class     Images     Labels          P          R     mAP@.5 mAP@.5:.95:   5% 1/22 [00:01<00:37,  1.79s/it]WARNING: NMS time limit 1.060s exceeded\n",
            "               Class     Images     Labels          P          R     mAP@.5 mAP@.5:.95:   9% 2/22 [00:03<00:35,  1.75s/it]WARNING: NMS time limit 1.060s exceeded\n",
            "               Class     Images     Labels          P          R     mAP@.5 mAP@.5:.95:  14% 3/22 [00:05<00:33,  1.78s/it]WARNING: NMS time limit 1.060s exceeded\n",
            "               Class     Images     Labels          P          R     mAP@.5 mAP@.5:.95:  18% 4/22 [00:07<00:31,  1.76s/it]WARNING: NMS time limit 1.060s exceeded\n",
            "               Class     Images     Labels          P          R     mAP@.5 mAP@.5:.95:  23% 5/22 [00:08<00:29,  1.76s/it]WARNING: NMS time limit 1.060s exceeded\n",
            "               Class     Images     Labels          P          R     mAP@.5 mAP@.5:.95:  27% 6/22 [00:10<00:27,  1.75s/it]WARNING: NMS time limit 1.060s exceeded\n",
            "               Class     Images     Labels          P          R     mAP@.5 mAP@.5:.95:  32% 7/22 [00:12<00:26,  1.75s/it]WARNING: NMS time limit 1.060s exceeded\n",
            "               Class     Images     Labels          P          R     mAP@.5 mAP@.5:.95:  36% 8/22 [00:14<00:24,  1.74s/it]WARNING: NMS time limit 1.060s exceeded\n",
            "               Class     Images     Labels          P          R     mAP@.5 mAP@.5:.95:  41% 9/22 [00:15<00:22,  1.74s/it]WARNING: NMS time limit 1.060s exceeded\n",
            "               Class     Images     Labels          P          R     mAP@.5 mAP@.5:.95:  45% 10/22 [00:17<00:20,  1.74s/it]WARNING: NMS time limit 1.060s exceeded\n",
            "               Class     Images     Labels          P          R     mAP@.5 mAP@.5:.95:  50% 11/22 [00:19<00:19,  1.74s/it]WARNING: NMS time limit 1.060s exceeded\n",
            "               Class     Images     Labels          P          R     mAP@.5 mAP@.5:.95:  55% 12/22 [00:20<00:17,  1.73s/it]WARNING: NMS time limit 1.060s exceeded\n",
            "               Class     Images     Labels          P          R     mAP@.5 mAP@.5:.95:  59% 13/22 [00:22<00:15,  1.73s/it]WARNING: NMS time limit 1.060s exceeded\n",
            "               Class     Images     Labels          P          R     mAP@.5 mAP@.5:.95:  64% 14/22 [00:24<00:13,  1.73s/it]WARNING: NMS time limit 1.060s exceeded\n",
            "               Class     Images     Labels          P          R     mAP@.5 mAP@.5:.95:  68% 15/22 [00:26<00:12,  1.73s/it]WARNING: NMS time limit 1.060s exceeded\n",
            "               Class     Images     Labels          P          R     mAP@.5 mAP@.5:.95:  73% 16/22 [00:27<00:10,  1.73s/it]WARNING: NMS time limit 1.060s exceeded\n",
            "               Class     Images     Labels          P          R     mAP@.5 mAP@.5:.95:  77% 17/22 [00:29<00:08,  1.72s/it]WARNING: NMS time limit 1.060s exceeded\n",
            "               Class     Images     Labels          P          R     mAP@.5 mAP@.5:.95:  82% 18/22 [00:31<00:06,  1.72s/it]WARNING: NMS time limit 1.060s exceeded\n",
            "               Class     Images     Labels          P          R     mAP@.5 mAP@.5:.95:  86% 19/22 [00:33<00:05,  1.73s/it]WARNING: NMS time limit 1.060s exceeded\n",
            "               Class     Images     Labels          P          R     mAP@.5 mAP@.5:.95:  91% 20/22 [00:34<00:03,  1.74s/it]WARNING: NMS time limit 1.060s exceeded\n",
            "               Class     Images     Labels          P          R     mAP@.5 mAP@.5:.95: 100% 22/22 [00:36<00:00,  1.67s/it]\n",
            "                 all        674      17099     0.0379      0.222     0.0223    0.00519\n",
            "\n",
            "     Epoch   gpu_mem       box       obj       cls    labels  img_size\n",
            "     2/149     14.1G   0.06673    0.4219         0       754      1024: 100% 169/169 [03:54<00:00,  1.39s/it]\n",
            "               Class     Images     Labels          P          R     mAP@.5 mAP@.5:.95:   0% 0/22 [00:00<?, ?it/s]WARNING: NMS time limit 1.060s exceeded\n",
            "               Class     Images     Labels          P          R     mAP@.5 mAP@.5:.95:   5% 1/22 [00:01<00:40,  1.91s/it]WARNING: NMS time limit 1.060s exceeded\n",
            "               Class     Images     Labels          P          R     mAP@.5 mAP@.5:.95: 100% 22/22 [00:28<00:00,  1.28s/it]\n",
            "                 all        674      29069      0.286      0.382      0.253     0.0756\n",
            "\n",
            "     Epoch   gpu_mem       box       obj       cls    labels  img_size\n",
            "     3/149     14.1G   0.05929    0.3994         0       652      1024: 100% 169/169 [03:54<00:00,  1.39s/it]\n",
            "               Class     Images     Labels          P          R     mAP@.5 mAP@.5:.95: 100% 22/22 [00:25<00:00,  1.18s/it]\n",
            "                 all        674      29344       0.78      0.722      0.783      0.309\n",
            "\n",
            "     Epoch   gpu_mem       box       obj       cls    labels  img_size\n",
            "     4/149     14.1G   0.05319    0.3782         0       496      1024: 100% 169/169 [03:54<00:00,  1.39s/it]\n",
            "               Class     Images     Labels          P          R     mAP@.5 mAP@.5:.95: 100% 22/22 [00:22<00:00,  1.02s/it]\n",
            "                 all        674      29344      0.853      0.758      0.839      0.358\n",
            "\n",
            "     Epoch   gpu_mem       box       obj       cls    labels  img_size\n",
            "     5/149     14.1G   0.05019    0.3626         0       498      1024: 100% 169/169 [03:55<00:00,  1.39s/it]\n",
            "               Class     Images     Labels          P          R     mAP@.5 mAP@.5:.95: 100% 22/22 [00:20<00:00,  1.08it/s]\n",
            "                 all        674      29344      0.884      0.802      0.876      0.411\n",
            "\n",
            "     Epoch   gpu_mem       box       obj       cls    labels  img_size\n",
            "     6/149     14.1G   0.04752    0.3541         0       647      1024: 100% 169/169 [03:54<00:00,  1.39s/it]\n",
            "               Class     Images     Labels          P          R     mAP@.5 mAP@.5:.95: 100% 22/22 [00:23<00:00,  1.07s/it]\n",
            "                 all        674      29344      0.875      0.825      0.886      0.428\n",
            "\n",
            "     Epoch   gpu_mem       box       obj       cls    labels  img_size\n",
            "     7/149     14.1G   0.04621    0.3428         0       602      1024: 100% 169/169 [03:54<00:00,  1.39s/it]\n",
            "               Class     Images     Labels          P          R     mAP@.5 mAP@.5:.95: 100% 22/22 [00:21<00:00,  1.02it/s]\n",
            "                 all        674      29344      0.884      0.832      0.893      0.428\n",
            "\n",
            "     Epoch   gpu_mem       box       obj       cls    labels  img_size\n",
            "     8/149     14.1G   0.04465    0.3377         0       732      1024: 100% 169/169 [03:56<00:00,  1.40s/it]\n",
            "               Class     Images     Labels          P          R     mAP@.5 mAP@.5:.95: 100% 22/22 [00:20<00:00,  1.09it/s]\n",
            "                 all        674      29344      0.889      0.847      0.903      0.453\n",
            "\n",
            "     Epoch   gpu_mem       box       obj       cls    labels  img_size\n",
            "     9/149     14.1G   0.04426    0.3374         0       686      1024: 100% 169/169 [03:56<00:00,  1.40s/it]\n",
            "               Class     Images     Labels          P          R     mAP@.5 mAP@.5:.95: 100% 22/22 [00:20<00:00,  1.07it/s]\n",
            "                 all        674      29344      0.901      0.863      0.916      0.466\n",
            "\n",
            "     Epoch   gpu_mem       box       obj       cls    labels  img_size\n",
            "    10/149     14.1G   0.04334    0.3273         0       759      1024: 100% 169/169 [03:55<00:00,  1.39s/it]\n",
            "               Class     Images     Labels          P          R     mAP@.5 mAP@.5:.95: 100% 22/22 [00:21<00:00,  1.03it/s]\n",
            "                 all        674      29344      0.902      0.858      0.915      0.471\n",
            "\n",
            "     Epoch   gpu_mem       box       obj       cls    labels  img_size\n",
            "    11/149     14.1G   0.04263    0.3306         0       843      1024: 100% 169/169 [03:56<00:00,  1.40s/it]\n",
            "               Class     Images     Labels          P          R     mAP@.5 mAP@.5:.95: 100% 22/22 [00:20<00:00,  1.05it/s]\n",
            "                 all        674      29344      0.905      0.855      0.915       0.46\n",
            "\n",
            "     Epoch   gpu_mem       box       obj       cls    labels  img_size\n",
            "    12/149     14.1G   0.04206    0.3185         0       451      1024: 100% 169/169 [03:55<00:00,  1.39s/it]\n",
            "               Class     Images     Labels          P          R     mAP@.5 mAP@.5:.95: 100% 22/22 [00:20<00:00,  1.09it/s]\n",
            "                 all        674      29344      0.913      0.869      0.926      0.496\n",
            "\n",
            "     Epoch   gpu_mem       box       obj       cls    labels  img_size\n",
            "    13/149     14.1G   0.04135    0.3171         0       704      1024: 100% 169/169 [03:56<00:00,  1.40s/it]\n",
            "               Class     Images     Labels          P          R     mAP@.5 mAP@.5:.95: 100% 22/22 [00:20<00:00,  1.08it/s]\n",
            "                 all        674      29344      0.908      0.869      0.924      0.482\n",
            "\n",
            "     Epoch   gpu_mem       box       obj       cls    labels  img_size\n",
            "    14/149     14.1G   0.04095    0.3211         0       564      1024: 100% 169/169 [03:55<00:00,  1.40s/it]\n",
            "               Class     Images     Labels          P          R     mAP@.5 mAP@.5:.95: 100% 22/22 [00:20<00:00,  1.07it/s]\n",
            "                 all        674      29344      0.914      0.873      0.929      0.503\n",
            "\n",
            "     Epoch   gpu_mem       box       obj       cls    labels  img_size\n",
            "    15/149     14.1G   0.04024    0.3116         0       704      1024: 100% 169/169 [03:55<00:00,  1.40s/it]\n",
            "               Class     Images     Labels          P          R     mAP@.5 mAP@.5:.95: 100% 22/22 [00:20<00:00,  1.09it/s]\n",
            "                 all        674      29344      0.913      0.868      0.926      0.495\n",
            "\n",
            "     Epoch   gpu_mem       box       obj       cls    labels  img_size\n",
            "    16/149     14.1G   0.04031    0.3145         0       593      1024: 100% 169/169 [03:53<00:00,  1.38s/it]\n",
            "               Class     Images     Labels          P          R     mAP@.5 mAP@.5:.95: 100% 22/22 [00:20<00:00,  1.09it/s]\n",
            "                 all        674      29344      0.919      0.877      0.934      0.506\n",
            "\n",
            "     Epoch   gpu_mem       box       obj       cls    labels  img_size\n",
            "    17/149     14.1G   0.04004    0.3159         0       928      1024: 100% 169/169 [03:55<00:00,  1.40s/it]\n",
            "               Class     Images     Labels          P          R     mAP@.5 mAP@.5:.95: 100% 22/22 [00:19<00:00,  1.11it/s]\n",
            "                 all        674      29344      0.915      0.873       0.93      0.498\n",
            "\n",
            "     Epoch   gpu_mem       box       obj       cls    labels  img_size\n",
            "    18/149     14.1G   0.03977    0.3132         0       680      1024: 100% 169/169 [03:54<00:00,  1.39s/it]\n",
            "               Class     Images     Labels          P          R     mAP@.5 mAP@.5:.95: 100% 22/22 [00:19<00:00,  1.10it/s]\n",
            "                 all        674      29344       0.92      0.865      0.929      0.497\n",
            "\n",
            "     Epoch   gpu_mem       box       obj       cls    labels  img_size\n",
            "    19/149     14.1G   0.03917    0.3095         0       561      1024: 100% 169/169 [03:53<00:00,  1.38s/it]\n",
            "               Class     Images     Labels          P          R     mAP@.5 mAP@.5:.95: 100% 22/22 [00:19<00:00,  1.14it/s]\n",
            "                 all        674      29344       0.92       0.88      0.937      0.515\n",
            "\n",
            "     Epoch   gpu_mem       box       obj       cls    labels  img_size\n",
            "    20/149     14.1G   0.03936    0.3123         0       607      1024: 100% 169/169 [03:54<00:00,  1.39s/it]\n",
            "               Class     Images     Labels          P          R     mAP@.5 mAP@.5:.95: 100% 22/22 [00:19<00:00,  1.12it/s]\n",
            "                 all        674      29344      0.917      0.875      0.931      0.503\n",
            "\n",
            "     Epoch   gpu_mem       box       obj       cls    labels  img_size\n",
            "    21/149     14.1G   0.03892    0.3089         0       607      1024: 100% 169/169 [03:55<00:00,  1.39s/it]\n",
            "               Class     Images     Labels          P          R     mAP@.5 mAP@.5:.95: 100% 22/22 [00:19<00:00,  1.13it/s]\n",
            "                 all        674      29344      0.922      0.872      0.933      0.514\n",
            "\n",
            "     Epoch   gpu_mem       box       obj       cls    labels  img_size\n",
            "    22/149     14.1G   0.03867    0.3071         0       848      1024: 100% 169/169 [03:53<00:00,  1.38s/it]\n",
            "               Class     Images     Labels          P          R     mAP@.5 mAP@.5:.95: 100% 22/22 [00:19<00:00,  1.13it/s]\n",
            "                 all        674      29344      0.924      0.878      0.937      0.508\n",
            "\n",
            "     Epoch   gpu_mem       box       obj       cls    labels  img_size\n",
            "    23/149     14.1G   0.03872    0.3066         0       524      1024: 100% 169/169 [03:54<00:00,  1.39s/it]\n",
            "               Class     Images     Labels          P          R     mAP@.5 mAP@.5:.95: 100% 22/22 [00:19<00:00,  1.16it/s]\n",
            "                 all        674      29344      0.925      0.879      0.937      0.519\n",
            "\n",
            "     Epoch   gpu_mem       box       obj       cls    labels  img_size\n",
            "    24/149     14.1G    0.0383    0.3028         0       479      1024: 100% 169/169 [03:55<00:00,  1.39s/it]\n",
            "               Class     Images     Labels          P          R     mAP@.5 mAP@.5:.95: 100% 22/22 [00:19<00:00,  1.12it/s]\n",
            "                 all        674      29344      0.921      0.884      0.939      0.519\n",
            "\n",
            "     Epoch   gpu_mem       box       obj       cls    labels  img_size\n",
            "    25/149     14.1G   0.03839    0.3087         0       629      1024: 100% 169/169 [03:55<00:00,  1.39s/it]\n",
            "               Class     Images     Labels          P          R     mAP@.5 mAP@.5:.95: 100% 22/22 [00:19<00:00,  1.13it/s]\n",
            "                 all        674      29344      0.919      0.888      0.939      0.522\n",
            "\n",
            "     Epoch   gpu_mem       box       obj       cls    labels  img_size\n",
            "    26/149     14.1G   0.03812    0.3047         0       584      1024: 100% 169/169 [03:54<00:00,  1.39s/it]\n",
            "               Class     Images     Labels          P          R     mAP@.5 mAP@.5:.95: 100% 22/22 [00:19<00:00,  1.13it/s]\n",
            "                 all        674      29344      0.924      0.881       0.94      0.524\n",
            "\n",
            "     Epoch   gpu_mem       box       obj       cls    labels  img_size\n",
            "    27/149     14.1G   0.03781    0.3029         0       507      1024: 100% 169/169 [03:55<00:00,  1.39s/it]\n",
            "               Class     Images     Labels          P          R     mAP@.5 mAP@.5:.95: 100% 22/22 [00:19<00:00,  1.12it/s]\n",
            "                 all        674      29344      0.923      0.888      0.941      0.527\n",
            "\n",
            "     Epoch   gpu_mem       box       obj       cls    labels  img_size\n",
            "    28/149     14.1G   0.03782    0.3062         0       663      1024: 100% 169/169 [03:55<00:00,  1.39s/it]\n",
            "               Class     Images     Labels          P          R     mAP@.5 mAP@.5:.95: 100% 22/22 [00:19<00:00,  1.13it/s]\n",
            "                 all        674      29344      0.923      0.886      0.939      0.525\n",
            "\n",
            "     Epoch   gpu_mem       box       obj       cls    labels  img_size\n",
            "    29/149     14.1G   0.03757    0.2999         0       581      1024: 100% 169/169 [03:53<00:00,  1.38s/it]\n",
            "               Class     Images     Labels          P          R     mAP@.5 mAP@.5:.95: 100% 22/22 [00:20<00:00,  1.08it/s]\n",
            "                 all        674      29344      0.928      0.884      0.942      0.529\n",
            "\n",
            "     Epoch   gpu_mem       box       obj       cls    labels  img_size\n",
            "    30/149     14.1G   0.03761    0.3027         0       641      1024: 100% 169/169 [03:53<00:00,  1.38s/it]\n",
            "               Class     Images     Labels          P          R     mAP@.5 mAP@.5:.95: 100% 22/22 [00:19<00:00,  1.13it/s]\n",
            "                 all        674      29344      0.925      0.879      0.939      0.527\n",
            "\n",
            "     Epoch   gpu_mem       box       obj       cls    labels  img_size\n",
            "    31/149     14.1G   0.03745    0.3027         0       603      1024: 100% 169/169 [03:54<00:00,  1.39s/it]\n",
            "               Class     Images     Labels          P          R     mAP@.5 mAP@.5:.95: 100% 22/22 [00:19<00:00,  1.14it/s]\n",
            "                 all        674      29344      0.928      0.886      0.942      0.533\n",
            "\n",
            "     Epoch   gpu_mem       box       obj       cls    labels  img_size\n",
            "    32/149     14.1G   0.03705    0.2981         0       675      1024: 100% 169/169 [03:55<00:00,  1.39s/it]\n",
            "               Class     Images     Labels          P          R     mAP@.5 mAP@.5:.95: 100% 22/22 [00:19<00:00,  1.15it/s]\n",
            "                 all        674      29344      0.926      0.888      0.943      0.534\n",
            "\n",
            "     Epoch   gpu_mem       box       obj       cls    labels  img_size\n",
            "    33/149     14.1G   0.03725    0.2948         0       602      1024: 100% 169/169 [03:55<00:00,  1.39s/it]\n",
            "               Class     Images     Labels          P          R     mAP@.5 mAP@.5:.95: 100% 22/22 [00:19<00:00,  1.14it/s]\n",
            "                 all        674      29344       0.93       0.89      0.944      0.534\n",
            "\n",
            "     Epoch   gpu_mem       box       obj       cls    labels  img_size\n",
            "    34/149     14.1G   0.03685    0.2968         0       600      1024: 100% 169/169 [03:53<00:00,  1.38s/it]\n",
            "               Class     Images     Labels          P          R     mAP@.5 mAP@.5:.95: 100% 22/22 [00:20<00:00,  1.10it/s]\n",
            "                 all        674      29344      0.922      0.895      0.942      0.533\n",
            "\n",
            "     Epoch   gpu_mem       box       obj       cls    labels  img_size\n",
            "    35/149     14.1G   0.03698    0.2979         0       545      1024: 100% 169/169 [03:54<00:00,  1.39s/it]\n",
            "               Class     Images     Labels          P          R     mAP@.5 mAP@.5:.95: 100% 22/22 [00:19<00:00,  1.13it/s]\n",
            "                 all        674      29344      0.929       0.89      0.944      0.534\n",
            "\n",
            "     Epoch   gpu_mem       box       obj       cls    labels  img_size\n",
            "    36/149     14.1G   0.03669       0.3         0       483      1024: 100% 169/169 [03:54<00:00,  1.38s/it]\n",
            "               Class     Images     Labels          P          R     mAP@.5 mAP@.5:.95: 100% 22/22 [00:19<00:00,  1.11it/s]\n",
            "                 all        674      29344      0.924      0.893      0.944      0.534\n",
            "\n",
            "     Epoch   gpu_mem       box       obj       cls    labels  img_size\n",
            "    37/149     14.1G   0.03666    0.2994         0       682      1024: 100% 169/169 [03:54<00:00,  1.39s/it]\n",
            "               Class     Images     Labels          P          R     mAP@.5 mAP@.5:.95:   0% 0/22 [00:00<?, ?it/s]\n",
            "Traceback (most recent call last):\n",
            "  File \"train.py\", line 668, in <module>\n",
            "    main(opt)\n",
            "  File \"train.py\", line 563, in main\n",
            "    train(opt.hyp, opt, device, callbacks)\n",
            "  File \"train.py\", line 398, in train\n",
            "    compute_loss=compute_loss)\n",
            "  File \"/usr/local/lib/python3.7/dist-packages/torch/autograd/grad_mode.py\", line 27, in decorate_context\n",
            "    return func(*args, **kwargs)\n",
            "  File \"/content/drive/MyDrive/kaggle/wheat/yolov5/val.py\", line 207, in run\n",
            "    dt[1] += time_sync() - t2\n",
            "  File \"/content/drive/MyDrive/kaggle/wheat/yolov5/utils/torch_utils.py\", line 86, in time_sync\n",
            "    torch.cuda.synchronize()\n",
            "  File \"/usr/local/lib/python3.7/dist-packages/torch/cuda/__init__.py\", line 495, in synchronize\n",
            "    return torch._C._cuda_synchronize()\n",
            "KeyboardInterrupt\n"
          ]
        }
      ]
    },
    {
      "cell_type": "code",
      "source": [
        "!python detect.py --source /content/drive/MyDrive/kaggle/wheat/test/ --conf 0.5 --weights /content/drive/MyDrive/kaggle/wheat/learnig_log/exp/weights/best.pt --save-conf --save-txt"
      ],
      "metadata": {
        "colab": {
          "base_uri": "https://localhost:8080/"
        },
        "id": "uYUSSuzuDf82",
        "outputId": "8f5a96c0-0e63-4c42-ac9e-0665e4fd191a"
      },
      "execution_count": null,
      "outputs": [
        {
          "output_type": "stream",
          "name": "stdout",
          "text": [
            "\u001b[34m\u001b[1mdetect: \u001b[0mweights=['/content/drive/MyDrive/kaggle/wheat/learnig_log/exp/weights/best.pt'], source=/content/drive/MyDrive/kaggle/wheat/test/, data=data/coco128.yaml, imgsz=[640, 640], conf_thres=0.5, iou_thres=0.45, max_det=1000, device=, view_img=False, save_txt=True, save_conf=True, save_crop=False, nosave=False, classes=None, agnostic_nms=False, augment=False, visualize=False, update=False, project=runs/detect, name=exp, exist_ok=False, line_thickness=3, hide_labels=False, hide_conf=False, half=False, dnn=False\n",
            "YOLOv5 🚀 v6.1-168-g5743deb torch 1.11.0+cu113 CUDA:0 (Tesla T4, 15110MiB)\n",
            "\n",
            "Fusing layers... \n",
            "YOLOv5m summary: 290 layers, 20852934 parameters, 0 gradients\n",
            "image 1/10 /content/drive/MyDrive/kaggle/wheat/test/2fd875eaa.jpg: 640x640 25 wheats, Done. (0.029s)\n",
            "image 2/10 /content/drive/MyDrive/kaggle/wheat/test/348a992bb.jpg: 640x640 35 wheats, Done. (0.029s)\n",
            "image 3/10 /content/drive/MyDrive/kaggle/wheat/test/51b3e36ab.jpg: 640x640 23 wheats, Done. (0.029s)\n",
            "image 4/10 /content/drive/MyDrive/kaggle/wheat/test/51f1be19e.jpg: 640x640 17 wheats, Done. (0.030s)\n",
            "image 5/10 /content/drive/MyDrive/kaggle/wheat/test/53f253011.jpg: 640x640 29 wheats, Done. (0.029s)\n",
            "image 6/10 /content/drive/MyDrive/kaggle/wheat/test/796707dd7.jpg: 640x640 20 wheats, Done. (0.029s)\n",
            "image 7/10 /content/drive/MyDrive/kaggle/wheat/test/aac893a91.jpg: 640x640 21 wheats, Done. (0.029s)\n",
            "image 8/10 /content/drive/MyDrive/kaggle/wheat/test/cb8d261a3.jpg: 640x640 22 wheats, Done. (0.029s)\n",
            "image 9/10 /content/drive/MyDrive/kaggle/wheat/test/cc3532ff6.jpg: 640x640 25 wheats, Done. (0.029s)\n",
            "image 10/10 /content/drive/MyDrive/kaggle/wheat/test/f5a1f0358.jpg: 640x640 26 wheats, Done. (0.029s)\n",
            "Speed: 0.6ms pre-process, 29.5ms inference, 1.2ms NMS per image at shape (1, 3, 640, 640)\n",
            "Results saved to \u001b[1mruns/detect/exp\u001b[0m\n",
            "10 labels saved to runs/detect/exp/labels\n"
          ]
        }
      ]
    },
    {
      "cell_type": "code",
      "source": [
        "detect_list = os.listdir(\"/content/drive/MyDrive/kaggle/wheat/test\")\n",
        "detect_list"
      ],
      "metadata": {
        "colab": {
          "base_uri": "https://localhost:8080/"
        },
        "id": "mCLl3gV6sdxT",
        "outputId": "a73834b6-e470-4412-fd8f-3429247e9663"
      },
      "execution_count": null,
      "outputs": [
        {
          "output_type": "execute_result",
          "data": {
            "text/plain": [
              "['348a992bb.jpg',\n",
              " '51b3e36ab.jpg',\n",
              " '2fd875eaa.jpg',\n",
              " '53f253011.jpg',\n",
              " 'cc3532ff6.jpg',\n",
              " 'f5a1f0358.jpg',\n",
              " '51f1be19e.jpg',\n",
              " '796707dd7.jpg',\n",
              " 'aac893a91.jpg',\n",
              " 'cb8d261a3.jpg']"
            ]
          },
          "metadata": {},
          "execution_count": 38
        }
      ]
    },
    {
      "cell_type": "code",
      "source": [
        "img_width = 1024\n",
        "img_height = 1024\n",
        "\n",
        "detect_value = []\n",
        "mod_list = []\n",
        "\n",
        "for id in detect_list:\n",
        "  id = id[:-4]\n",
        "  mod_list.append(id)\n",
        "  path = f\"/content/drive/MyDrive/kaggle/wheat/yolov5/runs/detect/exp/labels/{id}.txt\"\n",
        "  txt = \"\"\n",
        "\n",
        "  with open(path) as f:\n",
        "    for line in f:\n",
        "      line_list = line.split(\" \")\n",
        "\n",
        "      x_mid_nor = float(line_list[1])\n",
        "      y_mid_nor = float(line_list[2])\n",
        "      width_nor = float(line_list[3])\n",
        "      height_nor = float(line_list[4])\n",
        "      conf = float(line_list[5])\n",
        "\n",
        "      width = width_nor * img_width  \n",
        "      height = height_nor * img_height   \n",
        "      x_min = x_mid_nor * img_width - width/2   \n",
        "      y_min = y_mid_nor * img_height - height/2    \n",
        "\n",
        "      conf =round(conf,2)\n",
        "      x_min = round(x_min,1)\n",
        "      y_min = round(y_min,1)\n",
        "      width = round(width,1)\n",
        "      height = round(height,1)\n",
        "\n",
        "      line_mod = f\"{conf} {x_min} {y_min} {width} {height} \"     \n",
        "      txt += line_mod\n",
        "    detect_value.append(txt)\n",
        "    \n",
        "detect_df = pd.DataFrame({\"image_id\": mod_list,\n",
        "                         \"PredictionString\": detect_value})\n",
        "\n",
        "detect_df.to_csv(\"/content/drive/MyDrive/kaggle/wheat/test/csv/submission.csv\", index=False)\n",
        "detect_df\n",
        "\n",
        "\n",
        "\n"
      ],
      "metadata": {
        "colab": {
          "base_uri": "https://localhost:8080/",
          "height": 363
        },
        "id": "sqeKv-SAs0J0",
        "outputId": "ce29d759-9748-4764-804f-a1930fa7c012"
      },
      "execution_count": null,
      "outputs": [
        {
          "output_type": "execute_result",
          "data": {
            "text/plain": [
              "    image_id                                   PredictionString\n",
              "0  348a992bb  0.51 369.0 860.0 86.0 77.0 0.53 387.0 880.0 86...\n",
              "1  51b3e36ab  0.58 1.0 286.0 71.0 179.0 0.71 394.0 427.0 85....\n",
              "2  2fd875eaa  0.54 995.0 486.0 29.0 79.0 0.68 987.0 584.0 36...\n",
              "3  53f253011  0.57 993.0 504.0 31.0 86.0 0.66 204.0 559.0 10...\n",
              "4  cc3532ff6  0.5 -0.0 763.0 40.0 79.0 0.52 761.0 -0.0 87.0 ...\n",
              "5  f5a1f0358  0.51 131.0 618.0 66.0 67.0 0.55 1.0 3.0 66.0 7...\n",
              "6  51f1be19e  0.54 567.0 582.0 179.0 130.0 0.56 73.0 698.0 1...\n",
              "7  796707dd7  0.5 94.0 788.0 110.0 96.0 0.51 195.0 476.0 108...\n",
              "8  aac893a91  0.51 473.0 981.0 94.0 42.0 0.59 317.0 863.0 82...\n",
              "9  cb8d261a3  0.56 649.0 864.0 85.0 129.0 0.57 474.0 924.0 1..."
            ],
            "text/html": [
              "\n",
              "  <div id=\"df-efb9e35a-f49e-48f8-b668-36c0fdcf256e\">\n",
              "    <div class=\"colab-df-container\">\n",
              "      <div>\n",
              "<style scoped>\n",
              "    .dataframe tbody tr th:only-of-type {\n",
              "        vertical-align: middle;\n",
              "    }\n",
              "\n",
              "    .dataframe tbody tr th {\n",
              "        vertical-align: top;\n",
              "    }\n",
              "\n",
              "    .dataframe thead th {\n",
              "        text-align: right;\n",
              "    }\n",
              "</style>\n",
              "<table border=\"1\" class=\"dataframe\">\n",
              "  <thead>\n",
              "    <tr style=\"text-align: right;\">\n",
              "      <th></th>\n",
              "      <th>image_id</th>\n",
              "      <th>PredictionString</th>\n",
              "    </tr>\n",
              "  </thead>\n",
              "  <tbody>\n",
              "    <tr>\n",
              "      <th>0</th>\n",
              "      <td>348a992bb</td>\n",
              "      <td>0.51 369.0 860.0 86.0 77.0 0.53 387.0 880.0 86...</td>\n",
              "    </tr>\n",
              "    <tr>\n",
              "      <th>1</th>\n",
              "      <td>51b3e36ab</td>\n",
              "      <td>0.58 1.0 286.0 71.0 179.0 0.71 394.0 427.0 85....</td>\n",
              "    </tr>\n",
              "    <tr>\n",
              "      <th>2</th>\n",
              "      <td>2fd875eaa</td>\n",
              "      <td>0.54 995.0 486.0 29.0 79.0 0.68 987.0 584.0 36...</td>\n",
              "    </tr>\n",
              "    <tr>\n",
              "      <th>3</th>\n",
              "      <td>53f253011</td>\n",
              "      <td>0.57 993.0 504.0 31.0 86.0 0.66 204.0 559.0 10...</td>\n",
              "    </tr>\n",
              "    <tr>\n",
              "      <th>4</th>\n",
              "      <td>cc3532ff6</td>\n",
              "      <td>0.5 -0.0 763.0 40.0 79.0 0.52 761.0 -0.0 87.0 ...</td>\n",
              "    </tr>\n",
              "    <tr>\n",
              "      <th>5</th>\n",
              "      <td>f5a1f0358</td>\n",
              "      <td>0.51 131.0 618.0 66.0 67.0 0.55 1.0 3.0 66.0 7...</td>\n",
              "    </tr>\n",
              "    <tr>\n",
              "      <th>6</th>\n",
              "      <td>51f1be19e</td>\n",
              "      <td>0.54 567.0 582.0 179.0 130.0 0.56 73.0 698.0 1...</td>\n",
              "    </tr>\n",
              "    <tr>\n",
              "      <th>7</th>\n",
              "      <td>796707dd7</td>\n",
              "      <td>0.5 94.0 788.0 110.0 96.0 0.51 195.0 476.0 108...</td>\n",
              "    </tr>\n",
              "    <tr>\n",
              "      <th>8</th>\n",
              "      <td>aac893a91</td>\n",
              "      <td>0.51 473.0 981.0 94.0 42.0 0.59 317.0 863.0 82...</td>\n",
              "    </tr>\n",
              "    <tr>\n",
              "      <th>9</th>\n",
              "      <td>cb8d261a3</td>\n",
              "      <td>0.56 649.0 864.0 85.0 129.0 0.57 474.0 924.0 1...</td>\n",
              "    </tr>\n",
              "  </tbody>\n",
              "</table>\n",
              "</div>\n",
              "      <button class=\"colab-df-convert\" onclick=\"convertToInteractive('df-efb9e35a-f49e-48f8-b668-36c0fdcf256e')\"\n",
              "              title=\"Convert this dataframe to an interactive table.\"\n",
              "              style=\"display:none;\">\n",
              "        \n",
              "  <svg xmlns=\"http://www.w3.org/2000/svg\" height=\"24px\"viewBox=\"0 0 24 24\"\n",
              "       width=\"24px\">\n",
              "    <path d=\"M0 0h24v24H0V0z\" fill=\"none\"/>\n",
              "    <path d=\"M18.56 5.44l.94 2.06.94-2.06 2.06-.94-2.06-.94-.94-2.06-.94 2.06-2.06.94zm-11 1L8.5 8.5l.94-2.06 2.06-.94-2.06-.94L8.5 2.5l-.94 2.06-2.06.94zm10 10l.94 2.06.94-2.06 2.06-.94-2.06-.94-.94-2.06-.94 2.06-2.06.94z\"/><path d=\"M17.41 7.96l-1.37-1.37c-.4-.4-.92-.59-1.43-.59-.52 0-1.04.2-1.43.59L10.3 9.45l-7.72 7.72c-.78.78-.78 2.05 0 2.83L4 21.41c.39.39.9.59 1.41.59.51 0 1.02-.2 1.41-.59l7.78-7.78 2.81-2.81c.8-.78.8-2.07 0-2.86zM5.41 20L4 18.59l7.72-7.72 1.47 1.35L5.41 20z\"/>\n",
              "  </svg>\n",
              "      </button>\n",
              "      \n",
              "  <style>\n",
              "    .colab-df-container {\n",
              "      display:flex;\n",
              "      flex-wrap:wrap;\n",
              "      gap: 12px;\n",
              "    }\n",
              "\n",
              "    .colab-df-convert {\n",
              "      background-color: #E8F0FE;\n",
              "      border: none;\n",
              "      border-radius: 50%;\n",
              "      cursor: pointer;\n",
              "      display: none;\n",
              "      fill: #1967D2;\n",
              "      height: 32px;\n",
              "      padding: 0 0 0 0;\n",
              "      width: 32px;\n",
              "    }\n",
              "\n",
              "    .colab-df-convert:hover {\n",
              "      background-color: #E2EBFA;\n",
              "      box-shadow: 0px 1px 2px rgba(60, 64, 67, 0.3), 0px 1px 3px 1px rgba(60, 64, 67, 0.15);\n",
              "      fill: #174EA6;\n",
              "    }\n",
              "\n",
              "    [theme=dark] .colab-df-convert {\n",
              "      background-color: #3B4455;\n",
              "      fill: #D2E3FC;\n",
              "    }\n",
              "\n",
              "    [theme=dark] .colab-df-convert:hover {\n",
              "      background-color: #434B5C;\n",
              "      box-shadow: 0px 1px 3px 1px rgba(0, 0, 0, 0.15);\n",
              "      filter: drop-shadow(0px 1px 2px rgba(0, 0, 0, 0.3));\n",
              "      fill: #FFFFFF;\n",
              "    }\n",
              "  </style>\n",
              "\n",
              "      <script>\n",
              "        const buttonEl =\n",
              "          document.querySelector('#df-efb9e35a-f49e-48f8-b668-36c0fdcf256e button.colab-df-convert');\n",
              "        buttonEl.style.display =\n",
              "          google.colab.kernel.accessAllowed ? 'block' : 'none';\n",
              "\n",
              "        async function convertToInteractive(key) {\n",
              "          const element = document.querySelector('#df-efb9e35a-f49e-48f8-b668-36c0fdcf256e');\n",
              "          const dataTable =\n",
              "            await google.colab.kernel.invokeFunction('convertToInteractive',\n",
              "                                                     [key], {});\n",
              "          if (!dataTable) return;\n",
              "\n",
              "          const docLinkHtml = 'Like what you see? Visit the ' +\n",
              "            '<a target=\"_blank\" href=https://colab.research.google.com/notebooks/data_table.ipynb>data table notebook</a>'\n",
              "            + ' to learn more about interactive tables.';\n",
              "          element.innerHTML = '';\n",
              "          dataTable['output_type'] = 'display_data';\n",
              "          await google.colab.output.renderOutput(dataTable, element);\n",
              "          const docLink = document.createElement('div');\n",
              "          docLink.innerHTML = docLinkHtml;\n",
              "          element.appendChild(docLink);\n",
              "        }\n",
              "      </script>\n",
              "    </div>\n",
              "  </div>\n",
              "  "
            ]
          },
          "metadata": {},
          "execution_count": 52
        }
      ]
    },
    {
      "cell_type": "code",
      "source": [
        ""
      ],
      "metadata": {
        "id": "K9B0EoQSyyPj"
      },
      "execution_count": null,
      "outputs": []
    },
    {
      "cell_type": "code",
      "source": [
        "!cd /content/drive/MyDrive/kaggle/wheat/yolov5"
      ],
      "metadata": {
        "id": "FZNLye2byyFn"
      },
      "execution_count": null,
      "outputs": []
    },
    {
      "cell_type": "code",
      "source": [
        "!python detect.py --source /content/drive/MyDrive/kaggle/wheat/test/ --conf 0.5 \\\n",
        "--weights /content/drive/MyDrive/kaggle/wheat/learnig_log/exp/weights/best.pt --save-conf --save-txt"
      ],
      "metadata": {
        "id": "Z6XerJR9s0Gz",
        "colab": {
          "base_uri": "https://localhost:8080/"
        },
        "outputId": "17657913-13bf-49e7-f2b2-b6b28088d1c1"
      },
      "execution_count": null,
      "outputs": [
        {
          "output_type": "stream",
          "name": "stdout",
          "text": [
            "\u001b[34m\u001b[1mdetect: \u001b[0mweights=['/content/drive/MyDrive/kaggle/wheat/learnig_log/exp/weights/best.pt'], source=/content/drive/MyDrive/kaggle/wheat/test/, data=data/coco128.yaml, imgsz=[640, 640], conf_thres=0.5, iou_thres=0.45, max_det=1000, device=, view_img=False, save_txt=True, save_conf=True, save_crop=False, nosave=False, classes=None, agnostic_nms=False, augment=False, visualize=False, update=False, project=runs/detect, name=exp, exist_ok=False, line_thickness=3, hide_labels=False, hide_conf=False, half=False, dnn=False\n",
            "YOLOv5 🚀 v6.1-168-g5743deb torch 1.11.0+cu113 CUDA:0 (Tesla P100-PCIE-16GB, 16281MiB)\n",
            "\n",
            "Fusing layers... \n",
            "YOLOv5m summary: 290 layers, 20852934 parameters, 0 gradients, 47.9 GFLOPs\n",
            "image 1/10 /content/drive/MyDrive/kaggle/wheat/test/2fd875eaa.jpg: 640x640 25 wheats, Done. (0.015s)\n",
            "image 2/10 /content/drive/MyDrive/kaggle/wheat/test/348a992bb.jpg: 640x640 35 wheats, Done. (0.015s)\n",
            "image 3/10 /content/drive/MyDrive/kaggle/wheat/test/51b3e36ab.jpg: 640x640 23 wheats, Done. (0.015s)\n",
            "image 4/10 /content/drive/MyDrive/kaggle/wheat/test/51f1be19e.jpg: 640x640 17 wheats, Done. (0.014s)\n",
            "image 5/10 /content/drive/MyDrive/kaggle/wheat/test/53f253011.jpg: 640x640 29 wheats, Done. (0.014s)\n",
            "image 6/10 /content/drive/MyDrive/kaggle/wheat/test/796707dd7.jpg: 640x640 20 wheats, Done. (0.014s)\n",
            "image 7/10 /content/drive/MyDrive/kaggle/wheat/test/aac893a91.jpg: 640x640 21 wheats, Done. (0.014s)\n",
            "image 8/10 /content/drive/MyDrive/kaggle/wheat/test/cb8d261a3.jpg: 640x640 22 wheats, Done. (0.014s)\n",
            "image 9/10 /content/drive/MyDrive/kaggle/wheat/test/cc3532ff6.jpg: 640x640 25 wheats, Done. (0.014s)\n",
            "image 10/10 /content/drive/MyDrive/kaggle/wheat/test/f5a1f0358.jpg: 640x640 26 wheats, Done. (0.014s)\n",
            "Speed: 0.6ms pre-process, 14.3ms inference, 5.2ms NMS per image at shape (1, 3, 640, 640)\n",
            "Results saved to \u001b[1mruns/detect/exp2\u001b[0m\n",
            "10 labels saved to runs/detect/exp2/labels\n"
          ]
        }
      ]
    },
    {
      "cell_type": "code",
      "source": [
        "for id in df[\"image_id\"].unique():\n",
        "  path = f\"/content/drive/MyDrive/kaggle/wheat/train/label/{id}.txt\"\n",
        "  txt = \"\"\n",
        "  img_width = 1024\n",
        "  img_height = 1024\n",
        "\n",
        "  bbox_txt = df.loc[df[\"image_id\"] == id, \"bbox\"].to_string(index=False)\n",
        "  bbox_txt = re.sub(\"[ \\[\\]]\", \"\", bbox_txt)\n",
        "  bbox_txt = bbox_txt.replace(\"[\",\"1 \").replace(\",\",\" \")\n",
        "\n",
        "  for line in bbox_txt.split(\"\\n\"):\n",
        "    param_list = line.split(\" \")\n",
        "    x_min = float(param_list[0])\n",
        "    y_min = float(param_list[1])\n",
        "    width = float(param_list[2])\n",
        "    height = float(param_list[3].replace(\"...\",\"\"))\n",
        "\n",
        "    x_mid = x_min + width/2\n",
        "    y_mid = y_min + height/2\n",
        "\n",
        "    x_mid_nor = x_mid/img_width\n",
        "    y_mid_nor = y_mid/img_height\n",
        "    width_nor = width/img_width\n",
        "    height_nor = height/img_height\n",
        "\n",
        "    line_mod = f\"0 {x_mid_nor} {y_mid_nor} {width_nor} {height_nor}\"\n",
        "    txt += line_mod + \"\\n\"\n",
        "\n",
        "  f = open(path, 'w')\n",
        "  f.write(txt) \n",
        "  f.close()"
      ],
      "metadata": {
        "id": "aEz4MEf6sduM"
      },
      "execution_count": null,
      "outputs": []
    },
    {
      "cell_type": "code",
      "source": [
        ""
      ],
      "metadata": {
        "id": "oNrgnktDsdmX"
      },
      "execution_count": null,
      "outputs": []
    },
    {
      "cell_type": "code",
      "source": [
        ""
      ],
      "metadata": {
        "id": "gRGN7ktLsdkE"
      },
      "execution_count": null,
      "outputs": []
    },
    {
      "cell_type": "code",
      "source": [
        ""
      ],
      "metadata": {
        "id": "hNJ8kMeTsdhy"
      },
      "execution_count": null,
      "outputs": []
    },
    {
      "cell_type": "code",
      "source": [
        ""
      ],
      "metadata": {
        "id": "5g6k8r-8sdeX"
      },
      "execution_count": null,
      "outputs": []
    },
    {
      "cell_type": "code",
      "source": [
        ""
      ],
      "metadata": {
        "id": "FjATiZqGDf6J"
      },
      "execution_count": null,
      "outputs": []
    },
    {
      "cell_type": "code",
      "source": [
        ""
      ],
      "metadata": {
        "id": "bjz5iQKOcu0m"
      },
      "execution_count": null,
      "outputs": []
    },
    {
      "cell_type": "code",
      "source": [
        ""
      ],
      "metadata": {
        "id": "aTfg8qh4cuxn"
      },
      "execution_count": null,
      "outputs": []
    }
  ]
}